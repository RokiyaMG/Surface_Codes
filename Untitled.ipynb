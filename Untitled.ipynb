{
 "cells": [
  {
   "cell_type": "code",
   "execution_count": 1,
   "id": "9c61cd7d-c607-4e4e-946d-51f40e0543c2",
   "metadata": {},
   "outputs": [
    {
     "name": "stderr",
     "output_type": "stream",
     "text": [
      "<frozen importlib._bootstrap>:219: RuntimeWarning: scipy._lib.messagestream.MessageStream size changed, may indicate binary incompatibility. Expected 56 from C header, got 64 from PyObject\n"
     ]
    }
   ],
   "source": [
    "import numpy as np\n",
    "\n",
    "# Importing standard Qiskit libraries\n",
    "from qiskit.providers.aer.noise import NoiseModel\n",
    "from qiskit.providers.aer.noise.errors import pauli_error, depolarizing_error\n",
    "from qiskit import Aer, QuantumCircuit, execute, ClassicalRegister, QuantumRegister\n",
    "from qiskit import QuantumCircuit, transpile, Aer, IBMQ\n",
    "from qiskit.tools.jupyter import *\n",
    "from qiskit.visualization import *\n",
    "from ibm_quantum_widgets import *\n",
    "import qiskit as q\n",
    "from qiskit.providers.aer import QasmSimulator\n",
    "from qiskit import QuantumCircuit, Aer, transpile, assemble\n",
    "from qiskit.visualization import plot_histogram\n",
    "aer_sim = Aer.get_backend('aer_simulator')\n",
    "qasm_sim = q.Aer.get_backend(\"qasm_simulator\")\n",
    "statevec_sim = q.Aer.get_backend(\"statevector_simulator\")\n"
   ]
  },
  {
   "cell_type": "code",
   "execution_count": 2,
   "id": "adcb5ee2-4be0-4e71-909e-b14c13c65ace",
   "metadata": {},
   "outputs": [
    {
     "data": {
      "image/png": "[encoded data removed]",
      "text/plain": [
       "<Figure size 568.052x325.08 with 1 Axes>"
      ]
     },
     "execution_count": 2,
     "metadata": {},
     "output_type": "execute_result"
    }
   ],
   "source": [
    "#initiating quantum register \n",
    "d = QuantumRegister(2, 'd')\n",
    "a = QuantumRegister(2, 'a')\n",
    "c = ClassicalRegister(2, 'c')\n",
    "\n",
    "#initiating quantum circuit\n",
    "circuit = QuantumCircuit (d, a, c)\n",
    "\n",
    "#error simulation\n",
    "#circuit.z(d[1])\n",
    "#circuit.x(d[4])\n",
    "\n",
    "circuit.h(a[0])\n",
    "circuit.h(a[1])\n",
    "circuit.barrier()\n",
    "\n",
    "\n",
    "circuit.cx(a[0], d[0])\n",
    "circuit.cx(a[0], d[1])\n",
    "\n",
    "\n",
    "circuit.cz(a[1], d[0])\n",
    "circuit.cz(a[1], d[1])\n",
    "\n",
    "circuit.barrier()\n",
    "\n",
    "circuit.h(a[0])\n",
    "circuit.h(a[1])\n",
    "\n",
    "#measurement\n",
    "#circuit.measure(a[0],c[0])\n",
    "#circuit.measure(a[1],c[1])\n",
    "\n",
    "#drawing the circuit \n",
    "\n",
    "circuit.draw()"
   ]
  },
  {
   "cell_type": "code",
   "execution_count": 3,
   "id": "9e07b0f2-4bc7-4dda-ad36-2bdcec1101ae",
   "metadata": {},
   "outputs": [
    {
     "data": {
      "image/png": "[encoded data removed]",
      "text/plain": [
       "<Figure size 504x360 with 1 Axes>"
      ]
     },
     "execution_count": 3,
     "metadata": {},
     "output_type": "execute_result"
    }
   ],
   "source": [
    "count1 = q.execute(circuit,backend=statevec_sim).result().get_counts()\n",
    "plot_histogram([count1], legend = ['count1'])"
   ]
  },
  {
   "cell_type": "code",
   "execution_count": null,
   "id": "4c95215c-d389-4b6b-aacd-d4adcd0a8af4",
   "metadata": {},
   "outputs": [],
   "source": []
  }
 ],
 "metadata": {
  "kernelspec": {
   "display_name": "Python 3 (ipykernel)",
   "language": "python",
   "name": "python3"
  },
  "language_info": {
   "codemirror_mode": {
    "name": "ipython",
    "version": 3
   },
   "file_extension": ".py",
   "mimetype": "text/x-python",
   "name": "python",
   "nbconvert_exporter": "python",
   "pygments_lexer": "ipython3",
   "version": "3.8.13"
  },
  "widgets": {
   "application/vnd.jupyter.widget-state+json": {
    "state": {
     "2a726270038d43128df7cd36ec6d6c4e": {
      "model_module": "@jupyter-widgets/controls",
      "model_module_version": "1.5.0",
      "model_name": "ButtonStyleModel",
      "state": {}
     },
     "343f90c917814615910e157a181abc39": {
      "model_module": "@jupyter-widgets/controls",
      "model_module_version": "1.5.0",
      "model_name": "ButtonModel",
      "state": {
       "button_style": "primary",
       "description": "Clear",
       "layout": "IPY_MODEL_45798d06865345548eb34ca1049c2694",
       "style": "IPY_MODEL_2a726270038d43128df7cd36ec6d6c4e"
      }
     },
     "388eef387399419d92f777ebdd98ce4d": {
      "model_module": "@jupyter-widgets/controls",
      "model_module_version": "1.5.0",
      "model_name": "DescriptionStyleModel",
      "state": {
       "description_width": ""
      }
     },
     "41ef5e12e24242eaaebc38f3870431e0": {
      "model_module": "@jupyter-widgets/controls",
      "model_module_version": "1.5.0",
      "model_name": "HTMLModel",
      "state": {
       "layout": "IPY_MODEL_71ddfb2a95444022838cc599df74876d",
       "style": "IPY_MODEL_a3bd6ed044ce473fb8ae02e2faf12bc2",
       "value": "<h5>Backend</h5>"
      }
     },
     "45798d06865345548eb34ca1049c2694": {
      "model_module": "@jupyter-widgets/base",
      "model_module_version": "1.2.0",
      "model_name": "LayoutModel",
      "state": {
       "grid_area": "right",
       "padding": "0px 0px 0px 0px",
       "width": "70px"
      }
     },
     "579bb8adf2134420b1c91f2abbf4ed9d": {
      "model_module": "@jupyter-widgets/controls",
      "model_module_version": "1.5.0",
      "model_name": "DescriptionStyleModel",
      "state": {
       "description_width": ""
      }
     },
     "5e943f2e678e4395bd6f5cd0676b5ecf": {
      "model_module": "@jupyter-widgets/base",
      "model_module_version": "1.2.0",
      "model_name": "LayoutModel",
      "state": {
       "width": "70px"
      }
     },
     "652dadef06dc4032889fbc63582ad520": {
      "model_module": "@jupyter-widgets/controls",
      "model_module_version": "1.5.0",
      "model_name": "DescriptionStyleModel",
      "state": {
       "description_width": ""
      }
     },
     "6b72050dd8644acd8d3becd3267b9684": {
      "model_module": "@jupyter-widgets/controls",
      "model_module_version": "1.5.0",
      "model_name": "DescriptionStyleModel",
      "state": {
       "description_width": ""
      }
     },
     "71ddfb2a95444022838cc599df74876d": {
      "model_module": "@jupyter-widgets/base",
      "model_module_version": "1.2.0",
      "model_name": "LayoutModel",
      "state": {
       "width": "145px"
      }
     },
     "823720aaeee249b099fd301c4ae9f4a5": {
      "model_module": "@jupyter-widgets/base",
      "model_module_version": "1.2.0",
      "model_name": "LayoutModel",
      "state": {
       "margin": "0px 0px 10px 0px"
      }
     },
     "824a2aafd87648a39f968822c92c4fa3": {
      "model_module": "@jupyter-widgets/base",
      "model_module_version": "1.2.0",
      "model_name": "LayoutModel",
      "state": {
       "width": "190px"
      }
     },
     "82d23eb32fef4a1aaf0b193012cbfa30": {
      "model_module": "@jupyter-widgets/controls",
      "model_module_version": "1.5.0",
      "model_name": "HTMLModel",
      "state": {
       "layout": "IPY_MODEL_824a2aafd87648a39f968822c92c4fa3",
       "style": "IPY_MODEL_652dadef06dc4032889fbc63582ad520",
       "value": "<h5>Job ID</h5>"
      }
     },
     "87b3982df6514b4e89faabe5eea51259": {
      "model_module": "@jupyter-widgets/controls",
      "model_module_version": "1.5.0",
      "model_name": "HTMLModel",
      "state": {
       "layout": "IPY_MODEL_5e943f2e678e4395bd6f5cd0676b5ecf",
       "style": "IPY_MODEL_a1080eb08dec4b809c5b8de03b6d11b1",
       "value": "<h5>Queue</h5>"
      }
     },
     "8fd6a8a4c13148cbafc0cf004b32266a": {
      "model_module": "@jupyter-widgets/controls",
      "model_module_version": "1.5.0",
      "model_name": "HTMLModel",
      "state": {
       "layout": "IPY_MODEL_823720aaeee249b099fd301c4ae9f4a5",
       "style": "IPY_MODEL_579bb8adf2134420b1c91f2abbf4ed9d",
       "value": "<p style='font-family: IBM Plex Sans, Arial, Helvetica, sans-serif; font-size: 20px; font-weight: medium;'>Circuit Properties</p>"
      }
     },
     "91ce22b6f09c425a88686a32309af378": {
      "model_module": "@jupyter-widgets/controls",
      "model_module_version": "1.5.0",
      "model_name": "HTMLModel",
      "state": {
       "layout": "IPY_MODEL_bf06c4dcf6bb44e2949d7037adefab6b",
       "style": "IPY_MODEL_388eef387399419d92f777ebdd98ce4d",
       "value": "<h5>Status</h5>"
      }
     },
     "a1080eb08dec4b809c5b8de03b6d11b1": {
      "model_module": "@jupyter-widgets/controls",
      "model_module_version": "1.5.0",
      "model_name": "DescriptionStyleModel",
      "state": {
       "description_width": ""
      }
     },
     "a3bd6ed044ce473fb8ae02e2faf12bc2": {
      "model_module": "@jupyter-widgets/controls",
      "model_module_version": "1.5.0",
      "model_name": "DescriptionStyleModel",
      "state": {
       "description_width": ""
      }
     },
     "ae9266f73e9c4ecf8f29e2f7719815cb": {
      "model_module": "@jupyter-widgets/controls",
      "model_module_version": "1.5.0",
      "model_name": "GridBoxModel",
      "state": {
       "children": [
        "IPY_MODEL_343f90c917814615910e157a181abc39"
       ],
       "layout": "IPY_MODEL_e10acf8daa33404d9755ba1c3176b090"
      }
     },
     "beb885a172e04a03afc60b63f7b0f4f8": {
      "model_module": "@jupyter-widgets/base",
      "model_module_version": "1.2.0",
      "model_name": "LayoutModel",
      "state": {
       "margin": "0px 0px 0px 37px",
       "width": "600px"
      }
     },
     "bf06c4dcf6bb44e2949d7037adefab6b": {
      "model_module": "@jupyter-widgets/base",
      "model_module_version": "1.2.0",
      "model_name": "LayoutModel",
      "state": {
       "width": "95px"
      }
     },
     "c77f05059bd040638cc292758ac72d1f": {
      "model_module": "@jupyter-widgets/controls",
      "model_module_version": "1.5.0",
      "model_name": "HBoxModel",
      "state": {
       "children": [
        "IPY_MODEL_82d23eb32fef4a1aaf0b193012cbfa30",
        "IPY_MODEL_41ef5e12e24242eaaebc38f3870431e0",
        "IPY_MODEL_91ce22b6f09c425a88686a32309af378",
        "IPY_MODEL_87b3982df6514b4e89faabe5eea51259",
        "IPY_MODEL_cdfc234409b14c558aeb91f7a2c88207"
       ],
       "layout": "IPY_MODEL_beb885a172e04a03afc60b63f7b0f4f8"
      }
     },
     "cdf9d6be191a4c6499f032585a7dff0a": {
      "model_module": "@jupyter-widgets/base",
      "model_module_version": "1.2.0",
      "model_name": "LayoutModel",
      "state": {}
     },
     "cdfc234409b14c558aeb91f7a2c88207": {
      "model_module": "@jupyter-widgets/controls",
      "model_module_version": "1.5.0",
      "model_name": "HTMLModel",
      "state": {
       "layout": "IPY_MODEL_cdf9d6be191a4c6499f032585a7dff0a",
       "style": "IPY_MODEL_6b72050dd8644acd8d3becd3267b9684",
       "value": "<h5>Message</h5>"
      }
     },
     "e10acf8daa33404d9755ba1c3176b090": {
      "model_module": "@jupyter-widgets/base",
      "model_module_version": "1.2.0",
      "model_name": "LayoutModel",
      "state": {
       "grid_template_areas": "\n                                       \". . . . right \"\n                                        ",
       "grid_template_columns": "20% 20% 20% 20% 20%",
       "width": "100%"
      }
     }
    },
    "version_major": 2,
    "version_minor": 0
   }
  }
 },
 "nbformat": 4,
 "nbformat_minor": 5
}
