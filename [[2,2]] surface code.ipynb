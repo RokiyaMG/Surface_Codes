{
 "cells": [
  {
   "cell_type": "code",
   "execution_count": 11,
   "id": "5cf5fb14-6fbf-499f-83b7-d9fdc6c45392",
   "metadata": {},
   "outputs": [],
   "source": [
    "import numpy as np\n",
    "\n",
    "# Importing standard Qiskit libraries\n",
    "from qiskit.providers.aer.noise import NoiseModel\n",
    "from qiskit.providers.aer.noise.errors import pauli_error, depolarizing_error\n",
    "from qiskit import Aer, QuantumCircuit, execute, ClassicalRegister, QuantumRegister\n",
    "from qiskit import QuantumCircuit, transpile, Aer, IBMQ\n",
    "from qiskit.tools.jupyter import *\n",
    "from qiskit.visualization import *\n",
    "from ibm_quantum_widgets import *\n",
    "import qiskit as q\n",
    "from qiskit.providers.aer import QasmSimulator\n",
    "from qiskit import QuantumCircuit, Aer, transpile, assemble\n",
    "from qiskit.visualization import plot_histogram\n",
    "aer_sim = Aer.get_backend('aer_simulator')\n",
    "qasm_sim = q.Aer.get_backend(\"qasm_simulator\")\n",
    "statevec_sim = q.Aer.get_backend(\"statevector_simulator\")\n"
   ]
  },
  {
   "cell_type": "code",
   "execution_count": null,
   "id": "c622cead-11d1-4908-a8bb-57b3475509ca",
   "metadata": {},
   "outputs": [],
   "source": [
    "#initiating quantum register \n",
    "d = QuantumRegister(2, 'd')\n",
    "a = QuantumRegister(2, 'a')\n",
    "c = ClassicalRegister(2, 'c')\n",
    "\n",
    "#initiating quantum circuit\n",
    "circuit = QuantumCircuit (d, a, c)\n",
    "\n",
    "#error simulation\n",
    "#circuit.z(d[1])\n",
    "#circuit.x(d[4])\n",
    "\n",
    "circuit.h(a[0])\n",
    "circuit.h(a[1])\n",
    "circuit.barrier()\n",
    "\n",
    "\n",
    "circuit.cx(a[0], d[0])\n",
    "circuit.cx(a[0], d[1])\n",
    "\n",
    "\n",
    "circuit.cz(a[1], d[0])\n",
    "circuit.cz(a[1], d[1])\n",
    "\n",
    "circuit.barrier()\n",
    "\n",
    "circuit.h(a[0])\n",
    "circuit.h(a[1])\n",
    "\n",
    "#measurement\n",
    "#circuit.measure(a[0],c[0])\n",
    "#circuit.measure(a[1],c[1])\n",
    "\n",
    "#drawing the circuit \n",
    "\n",
    "circuit.draw()"
   ]
  },
  {
   "cell_type": "code",
   "execution_count": 10,
   "id": "4356b237-46df-47c8-ba85-167ab7a9d7ce",
   "metadata": {},
   "outputs": [
    {
     "data": {
      "image/png": "[encoded data removed]",
      "text/plain": [
       "<Figure size 504x360 with 1 Axes>"
      ]
     },
     "execution_count": 10,
     "metadata": {},
     "output_type": "execute_result"
    }
   ],
   "source": [
    "count1 = q.execute(circuit,backend=statevec_sim).result().get_counts()\n",
    "plot_histogram([count1], legend = ['count1'])"
   ]
  },
  {
   "cell_type": "code",
   "execution_count": null,
   "id": "93bd91f3-5cfd-4ce4-97f4-4fface69ce67",
   "metadata": {},
   "outputs": [],
   "source": []
  }
 ],
 "metadata": {
  "kernelspec": {
   "display_name": "Python 3 (ipykernel)",
   "language": "python",
   "name": "python3"
  },
  "language_info": {
   "codemirror_mode": {
    "name": "ipython",
    "version": 3
   },
   "file_extension": ".py",
   "mimetype": "text/x-python",
   "name": "python",
   "nbconvert_exporter": "python",
   "pygments_lexer": "ipython3",
   "version": "3.8.13"
  },
  "widgets": {
   "application/vnd.jupyter.widget-state+json": {
    "state": {},
    "version_major": 2,
    "version_minor": 0
   }
  }
 },
 "nbformat": 4,
 "nbformat_minor": 5
}
